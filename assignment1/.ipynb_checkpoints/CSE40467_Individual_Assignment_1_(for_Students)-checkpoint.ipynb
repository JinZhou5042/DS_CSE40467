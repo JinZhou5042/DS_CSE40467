{
  "nbformat": 4,
  "nbformat_minor": 0,
  "metadata": {
    "colab": {
      "provenance": []
    },
    "kernelspec": {
      "name": "python3",
      "display_name": "Python 3"
    },
    "language_info": {
      "name": "python"
    }
  },
  "cells": [
    {
      "cell_type": "markdown",
      "source": [
        "# Individual Assignment 1\n",
        "## CSE 40467 / 60467\n",
        "\n",
        "**Instructions:**\n",
        "*   You must complete the empty cells and run the code.\n",
        "*   Gradescope will check your code and output responses.\n",
        "*   It's an individual assignment, so please do not share your responses with other classmates. Gradescope will evaluate similarity of responses.\n",
        "* If you have any questions. Please post them on Canvas or reach out to the TAs.\n",
        "\n",
        "\n"
      ],
      "metadata": {
        "id": "YSU-ZvrSg3O3"
      }
    },
    {
      "cell_type": "code",
      "execution_count": null,
      "metadata": {
        "id": "aI8rKE6UW8nE"
      },
      "outputs": [],
      "source": [
        "import pandas as pd\n",
        "import csv\n",
        "import numpy as np\n",
        "import seaborn as sns\n",
        "import string\n",
        "import matplotlib.pyplot as plt\n",
        "\n",
        "from collections import Counter\n",
        "from sklearn.feature_extraction import text\n",
        "from sklearn.feature_extraction.text import TfidfVectorizer"
      ]
    },
    {
      "cell_type": "code",
      "source": [
        "pd.options.mode.chained_assignment = None"
      ],
      "metadata": {
        "id": "HxbPoCmaMDHG"
      },
      "execution_count": null,
      "outputs": []
    },
    {
      "cell_type": "markdown",
      "source": [
        "## The Dataset"
      ],
      "metadata": {
        "id": "MdZELNWCjvGy"
      }
    },
    {
      "cell_type": "markdown",
      "source": [
        "We will the [\"Jobs NYC Posting\"](https://catalog.data.gov/dataset/nyc-jobs) dataset. This dataset contains current job postings available on the City of New York’s official jobs site (http://www.nyc.gov/html/careers/html/search/search.shtml).\n"
      ],
      "metadata": {
        "id": "aKO_NYQtjw_4"
      }
    },
    {
      "cell_type": "markdown",
      "source": [
        "Load the database. Assign the dataframe as `jobs`"
      ],
      "metadata": {
        "id": "OSKJN3SHR7VE"
      }
    },
    {
      "cell_type": "code",
      "source": [],
      "metadata": {
        "id": "uUIxjVKP0QdZ"
      },
      "execution_count": null,
      "outputs": []
    },
    {
      "cell_type": "markdown",
      "source": [
        "Print the dataframe `jobs`"
      ],
      "metadata": {
        "id": "jLe6G-jMR_2J"
      }
    },
    {
      "cell_type": "code",
      "source": [],
      "metadata": {
        "id": "ftbt0lOpB-_4"
      },
      "execution_count": null,
      "outputs": []
    },
    {
      "cell_type": "markdown",
      "source": [
        "How many observations does the database have?"
      ],
      "metadata": {
        "id": "UERwODyDSFBU"
      }
    },
    {
      "cell_type": "code",
      "source": [],
      "metadata": {
        "id": "Ap-zY_a1ETvC"
      },
      "execution_count": null,
      "outputs": []
    },
    {
      "cell_type": "markdown",
      "source": [
        "Check how many values in each column are unique. Check out the following [command](https://pandas.pydata.org/docs/reference/api/pandas.DataFrame.nunique.html)."
      ],
      "metadata": {
        "id": "AA4jT6ooSJh-"
      }
    },
    {
      "cell_type": "code",
      "source": [],
      "metadata": {
        "id": "fWelITcWFKZ3"
      },
      "execution_count": null,
      "outputs": []
    },
    {
      "cell_type": "markdown",
      "source": [
        "The dataframe has many duplicates. There is one particular column that will help you identify which observations are duplicated. Sort the values according to that column"
      ],
      "metadata": {
        "id": "ppa7RVOsSZuZ"
      }
    },
    {
      "cell_type": "code",
      "source": [],
      "metadata": {
        "id": "xtPg9PGbB4iY"
      },
      "execution_count": null,
      "outputs": []
    },
    {
      "cell_type": "markdown",
      "source": [
        "Print the dataframe and check how the data. What do you see?"
      ],
      "metadata": {
        "id": "2UNC53I1Sm2c"
      }
    },
    {
      "cell_type": "code",
      "source": [],
      "metadata": {
        "id": "IWS1FMQmSmM4"
      },
      "execution_count": null,
      "outputs": []
    },
    {
      "cell_type": "markdown",
      "source": [
        "Remove the duplicates based on this column."
      ],
      "metadata": {
        "id": "d4HvpoH8Sjqp"
      }
    },
    {
      "cell_type": "code",
      "source": [],
      "metadata": {
        "id": "ZFuSqq0dBW_C"
      },
      "execution_count": null,
      "outputs": []
    },
    {
      "cell_type": "markdown",
      "source": [
        "Calculate the updated number of observations."
      ],
      "metadata": {
        "id": "wsVi0spXSvYL"
      }
    },
    {
      "cell_type": "code",
      "source": [],
      "metadata": {
        "id": "b1TSdU9XFvrO"
      },
      "execution_count": null,
      "outputs": []
    },
    {
      "cell_type": "markdown",
      "source": [
        "Why did we have too many duplicates? Write your answer below."
      ],
      "metadata": {
        "id": "rR6k3pqhTBJU"
      }
    },
    {
      "cell_type": "code",
      "source": [
        "### MANUAL RESPONSE"
      ],
      "metadata": {
        "id": "zvUGeSKGTFon"
      },
      "execution_count": null,
      "outputs": []
    },
    {
      "cell_type": "markdown",
      "source": [
        "Calculate the number of unique values per column."
      ],
      "metadata": {
        "id": "0oxqYl7YSzoW"
      }
    },
    {
      "cell_type": "code",
      "source": [],
      "metadata": {
        "id": "jrAC5npVFxPn"
      },
      "execution_count": null,
      "outputs": []
    },
    {
      "cell_type": "markdown",
      "source": [
        "Check the number of missing"
      ],
      "metadata": {
        "id": "GNwBzwN0S6UT"
      }
    },
    {
      "cell_type": "code",
      "source": [],
      "metadata": {
        "id": "ukbLHlMt9-x4"
      },
      "execution_count": null,
      "outputs": []
    },
    {
      "cell_type": "markdown",
      "source": [
        "Remove all the features that have more than 50% missing values"
      ],
      "metadata": {
        "id": "3Dk8aBu_qsQo"
      }
    },
    {
      "cell_type": "code",
      "source": [],
      "metadata": {
        "id": "PJoz0itAqvq-"
      },
      "execution_count": null,
      "outputs": []
    },
    {
      "cell_type": "markdown",
      "source": [
        "Check that the columns were deleted. Print the columns of the dataframe as a list."
      ],
      "metadata": {
        "id": "tapUJSiOr_qY"
      }
    },
    {
      "cell_type": "code",
      "source": [],
      "metadata": {
        "id": "cp_JfJ68r_zr"
      },
      "execution_count": null,
      "outputs": []
    },
    {
      "cell_type": "markdown",
      "source": [
        "## Checking the data"
      ],
      "metadata": {
        "id": "ZcmC25ZfLcue"
      }
    },
    {
      "cell_type": "markdown",
      "source": [
        "Check the types of columns"
      ],
      "metadata": {
        "id": "A0YqWDxuUrVJ"
      }
    },
    {
      "cell_type": "code",
      "source": [],
      "metadata": {
        "id": "JT8s1F_z2mqL"
      },
      "execution_count": null,
      "outputs": []
    },
    {
      "cell_type": "markdown",
      "source": [
        "Identify the categorical columns and assign them as the `categorical_columns` list"
      ],
      "metadata": {
        "id": "jLLZAKsnYgxS"
      }
    },
    {
      "cell_type": "code",
      "source": [],
      "metadata": {
        "id": "ehVYBfG03l-_"
      },
      "execution_count": null,
      "outputs": []
    },
    {
      "cell_type": "markdown",
      "source": [
        "Print the columns"
      ],
      "metadata": {
        "id": "EHcn8OMwYm8M"
      }
    },
    {
      "cell_type": "code",
      "source": [],
      "metadata": {
        "id": "CdhvoVDb3sxk"
      },
      "execution_count": null,
      "outputs": []
    },
    {
      "cell_type": "markdown",
      "source": [
        "Assign all the NA values for the categorical columns as `` (i.e., empty string)"
      ],
      "metadata": {
        "id": "ZLkE0jUmYphZ"
      }
    },
    {
      "cell_type": "code",
      "source": [],
      "metadata": {
        "id": "BQKF3D2yYpDw"
      },
      "execution_count": null,
      "outputs": []
    },
    {
      "cell_type": "markdown",
      "source": [
        "Identify the numeric columns and assign them as the `numeric_columns` list"
      ],
      "metadata": {
        "id": "d9o9G8SWUtr6"
      }
    },
    {
      "cell_type": "code",
      "source": [],
      "metadata": {
        "id": "vhdWsjZn2qh4"
      },
      "execution_count": null,
      "outputs": []
    },
    {
      "cell_type": "markdown",
      "source": [
        "Print the variable"
      ],
      "metadata": {
        "id": "BBo9Vhl9VCLf"
      }
    },
    {
      "cell_type": "code",
      "source": [],
      "metadata": {
        "id": "Ezqsl3ORVBpp"
      },
      "execution_count": null,
      "outputs": []
    },
    {
      "cell_type": "markdown",
      "source": [
        "One variable should not be here since it's only used as an identifier. Remove it."
      ],
      "metadata": {
        "id": "KDXC8v37VFkw"
      }
    },
    {
      "cell_type": "code",
      "source": [],
      "metadata": {
        "id": "l-PKmRYo3815"
      },
      "execution_count": null,
      "outputs": []
    },
    {
      "cell_type": "markdown",
      "source": [
        "Calculate the dataframe's metrics using `describe()`"
      ],
      "metadata": {
        "id": "FrHZrTJyVSKk"
      }
    },
    {
      "cell_type": "code",
      "source": [],
      "metadata": {
        "id": "4mZSOFSm3wzU"
      },
      "execution_count": null,
      "outputs": []
    },
    {
      "cell_type": "markdown",
      "source": [
        "Which jobs have a \"salary range from\" equal to zero? Filter those jobs and print the `Job ID`, `Civil Service Title`, and `Salary Range To`"
      ],
      "metadata": {
        "id": "F-HGcXlIVgET"
      }
    },
    {
      "cell_type": "code",
      "source": [],
      "metadata": {
        "id": "P9KrSCngH4_5"
      },
      "execution_count": null,
      "outputs": []
    },
    {
      "cell_type": "markdown",
      "source": [
        "Calculate the 25% percentile of `Salary Range To` and assign it to `jobs_range_to_q25`"
      ],
      "metadata": {
        "id": "xgB8stK9Vv_4"
      }
    },
    {
      "cell_type": "code",
      "source": [],
      "metadata": {
        "id": "pbMwa66zGNgN"
      },
      "execution_count": null,
      "outputs": []
    },
    {
      "cell_type": "markdown",
      "source": [
        "Print the variable"
      ],
      "metadata": {
        "id": "249t9dTvV5GQ"
      }
    },
    {
      "cell_type": "code",
      "source": [],
      "metadata": {
        "id": "NrHBEGLFV4lD"
      },
      "execution_count": null,
      "outputs": []
    },
    {
      "cell_type": "markdown",
      "source": [
        "Usign `Salary Range To`, identify how many job postings this database has for each `Civil Service Title` lower than percentile.\n",
        "\n"
      ],
      "metadata": {
        "id": "IBRH3FvdV63_"
      }
    },
    {
      "cell_type": "code",
      "source": [],
      "metadata": {
        "id": "TVaJOfKg-vLD"
      },
      "execution_count": null,
      "outputs": []
    },
    {
      "cell_type": "markdown",
      "source": [
        "Calculate the 75% percentile of `Salary Range To` and assign it to `jobs_range_to_q75`"
      ],
      "metadata": {
        "id": "2-bnJbm3WdaP"
      }
    },
    {
      "cell_type": "code",
      "source": [],
      "metadata": {
        "id": "MASKBmJWGt9b"
      },
      "execution_count": null,
      "outputs": []
    },
    {
      "cell_type": "markdown",
      "source": [
        "Print the variable"
      ],
      "metadata": {
        "id": "VsYwksonWXTF"
      }
    },
    {
      "cell_type": "code",
      "source": [],
      "metadata": {
        "id": "N8CiZNz0WYWY"
      },
      "execution_count": null,
      "outputs": []
    },
    {
      "cell_type": "markdown",
      "source": [
        "Using `Salary Range To`, identify how many job postings this database has for each `Civil Service Title` higher than the 75% percentile."
      ],
      "metadata": {
        "id": "yi18Oy3hWTa2"
      }
    },
    {
      "cell_type": "code",
      "source": [],
      "metadata": {
        "id": "J_IwlOzK_pjn"
      },
      "execution_count": null,
      "outputs": []
    },
    {
      "cell_type": "markdown",
      "source": [
        "Calculate the histogram of the numeric variables. Do not forget to filter using the variable `numeric_columns`"
      ],
      "metadata": {
        "id": "UQvcuCaCXnBv"
      }
    },
    {
      "cell_type": "code",
      "source": [],
      "metadata": {
        "id": "UO3RLglR35bF"
      },
      "execution_count": null,
      "outputs": []
    },
    {
      "cell_type": "markdown",
      "source": [
        "Identify three outliers according to `# Of Positions`"
      ],
      "metadata": {
        "id": "07vPzwZfXzjS"
      }
    },
    {
      "cell_type": "code",
      "source": [],
      "metadata": {
        "id": "aPQUv7gCG9x3"
      },
      "execution_count": null,
      "outputs": []
    },
    {
      "cell_type": "markdown",
      "source": [
        "How many jobs are Full-Time or Part-Time?"
      ],
      "metadata": {
        "id": "5N_IFTY1ahwl"
      }
    },
    {
      "cell_type": "code",
      "source": [],
      "metadata": {
        "id": "TP4pRTZOAcHQ"
      },
      "execution_count": null,
      "outputs": []
    },
    {
      "cell_type": "markdown",
      "source": [
        "Check the frequency of full-time jobs according to `Civil Service Title`"
      ],
      "metadata": {
        "id": "X70Pl5Uea2Yt"
      }
    },
    {
      "cell_type": "code",
      "source": [],
      "metadata": {
        "id": "VrvjpExja0dW"
      },
      "execution_count": null,
      "outputs": []
    },
    {
      "cell_type": "markdown",
      "source": [
        "Check the frequency of part-time jobs according to `Civil Service Title`."
      ],
      "metadata": {
        "id": "YMPn5wJwapIE"
      }
    },
    {
      "cell_type": "code",
      "source": [],
      "metadata": {
        "id": "qnR-XUavAvxd"
      },
      "execution_count": null,
      "outputs": []
    },
    {
      "cell_type": "markdown",
      "source": [
        "What is the most frequent Division/Work unit?"
      ],
      "metadata": {
        "id": "cmqvzoGCkQ9B"
      }
    },
    {
      "cell_type": "code",
      "source": [],
      "metadata": {
        "id": "i4cRDjySkSMX"
      },
      "execution_count": null,
      "outputs": []
    },
    {
      "cell_type": "markdown",
      "source": [
        "What are the top-10 job categories?"
      ],
      "metadata": {
        "id": "GwoOIqdzksYT"
      }
    },
    {
      "cell_type": "code",
      "source": [],
      "metadata": {
        "id": "54iWuXl4ku5M"
      },
      "execution_count": null,
      "outputs": []
    },
    {
      "cell_type": "markdown",
      "source": [
        "Save the top-10 job categories as a list using the variable `most_solicited_jobs`"
      ],
      "metadata": {
        "id": "ZWf8RKTIoLoD"
      }
    },
    {
      "cell_type": "code",
      "source": [],
      "metadata": {
        "id": "XqMBtZp6nzmL"
      },
      "execution_count": null,
      "outputs": []
    },
    {
      "cell_type": "markdown",
      "source": [
        "Print the list"
      ],
      "metadata": {
        "id": "zgJEZDowoVnJ"
      }
    },
    {
      "cell_type": "code",
      "source": [],
      "metadata": {
        "id": "w08F2nyboVHw"
      },
      "execution_count": null,
      "outputs": []
    },
    {
      "cell_type": "markdown",
      "source": [
        "## Pre-processing"
      ],
      "metadata": {
        "id": "N3i7GifPZbHE"
      }
    },
    {
      "cell_type": "markdown",
      "source": [
        "Many jobs have residency requirements. Print the frequency using `value_counts()`"
      ],
      "metadata": {
        "id": "wmHX2d05YNSp"
      }
    },
    {
      "cell_type": "code",
      "source": [],
      "metadata": {
        "id": "jExeICf3IkYE"
      },
      "execution_count": null,
      "outputs": []
    },
    {
      "cell_type": "markdown",
      "source": [
        "We will create a new column called `Residency Required`. This column will be 1 if the substring \"is generally required\" is in the description. Else, it will be 0."
      ],
      "metadata": {
        "id": "DjUOZ-AGY6Q6"
      }
    },
    {
      "cell_type": "code",
      "source": [],
      "metadata": {
        "id": "fHgNzK3QJQPq"
      },
      "execution_count": null,
      "outputs": []
    },
    {
      "cell_type": "markdown",
      "source": [
        "Print the number of jobs that we identified with a residency requirement using `value_counts()`."
      ],
      "metadata": {
        "id": "hv-ghJFQZHPJ"
      }
    },
    {
      "cell_type": "code",
      "source": [],
      "metadata": {
        "id": "xEx0KRgjKOc4"
      },
      "execution_count": null,
      "outputs": []
    },
    {
      "cell_type": "markdown",
      "source": [
        "Check the most frequent number of minimal qualification requirements using `value_counts`"
      ],
      "metadata": {
        "id": "9S2uJlUpZRf4"
      }
    },
    {
      "cell_type": "code",
      "source": [],
      "metadata": {
        "id": "LQ3mdj1nLGVW"
      },
      "execution_count": null,
      "outputs": []
    },
    {
      "cell_type": "markdown",
      "source": [
        "Many jobs are described based on degrees. Create a new variable called `required_education_bs`. This variable will be 1 if the word `baccalaureate` is present in the description. Otherwise, it will be zero."
      ],
      "metadata": {
        "id": "3FJSLkCSZsZ4"
      }
    },
    {
      "cell_type": "code",
      "source": [],
      "metadata": {
        "id": "Wwd_Hji_Qv5q"
      },
      "execution_count": null,
      "outputs": []
    },
    {
      "cell_type": "markdown",
      "source": [
        "What is the percentage of jobs that require a baccalaureate degree?"
      ],
      "metadata": {
        "id": "5D-bQ1aZaLPq"
      }
    },
    {
      "cell_type": "code",
      "source": [],
      "metadata": {
        "id": "YNhHHXJsRbAo"
      },
      "execution_count": null,
      "outputs": []
    },
    {
      "cell_type": "markdown",
      "source": [
        "Following the same logic, create the column `required_education_ms` to flag if the description has the word `master's`."
      ],
      "metadata": {
        "id": "X9VpDBRPZ41I"
      }
    },
    {
      "cell_type": "code",
      "source": [],
      "metadata": {
        "id": "UIJNjXhnRNu2"
      },
      "execution_count": null,
      "outputs": []
    },
    {
      "cell_type": "markdown",
      "source": [
        "What is the percentage of jobs that require a master's degree?"
      ],
      "metadata": {
        "id": "U1Bi2FMPaR5D"
      }
    },
    {
      "cell_type": "code",
      "source": [],
      "metadata": {
        "id": "kNzhAJSKRpHn"
      },
      "execution_count": null,
      "outputs": []
    },
    {
      "cell_type": "markdown",
      "source": [
        "Following the same logic, create the column `required_education_phd` to flag if the description has the word `doctorate`."
      ],
      "metadata": {
        "id": "A-BxMbzFaFPq"
      }
    },
    {
      "cell_type": "code",
      "source": [],
      "metadata": {
        "id": "FhHW7-G8ROgy"
      },
      "execution_count": null,
      "outputs": []
    },
    {
      "cell_type": "markdown",
      "source": [
        "What is the percentage of jobs that require a doctoral degree?"
      ],
      "metadata": {
        "id": "XuTyhasPaYL1"
      }
    },
    {
      "cell_type": "code",
      "source": [],
      "metadata": {
        "id": "J3qIXLbIRrzA"
      },
      "execution_count": null,
      "outputs": []
    },
    {
      "cell_type": "markdown",
      "source": [
        "## Text Analysis"
      ],
      "metadata": {
        "id": "UIsCI0oNdSgR"
      }
    },
    {
      "cell_type": "code",
      "source": [
        "stop_words = list(text.ENGLISH_STOP_WORDS)"
      ],
      "metadata": {
        "id": "WlEv64a-eJNi"
      },
      "execution_count": null,
      "outputs": []
    },
    {
      "cell_type": "markdown",
      "source": [
        "Define the variable `most_common_100_words` which has the 100 most frequent words from the column \"Minimum Qual Requirements\"."
      ],
      "metadata": {
        "id": "pT_yzOv1deZU"
      }
    },
    {
      "cell_type": "code",
      "source": [],
      "metadata": {
        "id": "46LJ1CvAe6KU"
      },
      "execution_count": null,
      "outputs": []
    },
    {
      "cell_type": "markdown",
      "source": [
        "Print the variable `most_common_100_words`"
      ],
      "metadata": {
        "id": "_GMAjCLAd4JL"
      }
    },
    {
      "cell_type": "code",
      "source": [],
      "metadata": {
        "id": "jKqRbYrvffsJ"
      },
      "execution_count": null,
      "outputs": []
    },
    {
      "cell_type": "markdown",
      "source": [
        "Load the following function. It will use the TF-IDF algorithm to detect the most relevant words given a set of documents."
      ],
      "metadata": {
        "id": "--BnZ3jWeBGB"
      }
    },
    {
      "cell_type": "code",
      "source": [
        "def get_tfidf_top_features(documents,n_top=100):\n",
        "  tfidf_vectorizer = TfidfVectorizer(max_df=0.95, min_df=2, stop_words='english')\n",
        "  tfidf = tfidf_vectorizer.fit_transform(documents)\n",
        "  importance = np.argsort(np.asarray(tfidf.sum(axis=0)).ravel())[::-1]\n",
        "  tfidf_feature_names = np.array(tfidf_vectorizer.get_feature_names_out())\n",
        "  return list(tfidf_feature_names[importance[:n_top]])"
      ],
      "metadata": {
        "id": "UZVvtBwmcZHg"
      },
      "execution_count": null,
      "outputs": []
    },
    {
      "cell_type": "markdown",
      "source": [
        "Create the variable `most_tfidf_100_words` and identify the most relevant 100 words of the column \"Minimum Qual Requirements\" using the previous function."
      ],
      "metadata": {
        "id": "JW8maguDeI3e"
      }
    },
    {
      "cell_type": "code",
      "source": [],
      "metadata": {
        "id": "4_xliZpUch31"
      },
      "execution_count": null,
      "outputs": []
    },
    {
      "cell_type": "markdown",
      "source": [
        "Print the words that are included in `most_important_100_words` and not in `most_common_100_words`."
      ],
      "metadata": {
        "id": "cGmv_a9VgVxV"
      }
    },
    {
      "cell_type": "code",
      "source": [],
      "metadata": {
        "id": "Qel_n5tvgSVE"
      },
      "execution_count": null,
      "outputs": []
    },
    {
      "cell_type": "markdown",
      "source": [
        "Now, print the word which words are included in `most_common_100_words` and not in `most_important_100_words`."
      ],
      "metadata": {
        "id": "xpFobqu1gdCl"
      }
    },
    {
      "cell_type": "code",
      "source": [],
      "metadata": {
        "id": "7OUJBYaigG36"
      },
      "execution_count": null,
      "outputs": []
    },
    {
      "cell_type": "markdown",
      "source": [
        "Based on the unique words that each list has, which variable has the most meaningful words? Write down the name of the variable below"
      ],
      "metadata": {
        "id": "5okV8fi2ghR-"
      }
    },
    {
      "cell_type": "code",
      "source": [
        "# Manual response"
      ],
      "metadata": {
        "id": "F_OA9BmWgout"
      },
      "execution_count": null,
      "outputs": []
    },
    {
      "cell_type": "markdown",
      "source": [
        "Run the `get_tfidf_top_features` function to find the most important words for `Job Description`"
      ],
      "metadata": {
        "id": "NeQmZxCclPi-"
      }
    },
    {
      "cell_type": "code",
      "source": [],
      "metadata": {
        "id": "fDFEVINdlPsN"
      },
      "execution_count": null,
      "outputs": []
    },
    {
      "cell_type": "markdown",
      "source": [
        "## Visualization"
      ],
      "metadata": {
        "id": "zAwClFLIllP9"
      }
    },
    {
      "cell_type": "markdown",
      "source": [
        "Create a `boxplot` using seaborn using the \"Salary Range To\" data. Classify the observataions based on the most frequent Job Categories.\n",
        "\n",
        "To make the x labels readable, use the command `plt.xticks(rotation=90)`\n",
        "\n",
        "Hint: Use the variable `most_solicited_jobs` to filter."
      ],
      "metadata": {
        "id": "1OMQ66P5pt8Y"
      }
    },
    {
      "cell_type": "code",
      "source": [],
      "metadata": {
        "id": "yY0J8Kfilqqg"
      },
      "execution_count": null,
      "outputs": []
    },
    {
      "cell_type": "markdown",
      "source": [
        "We will plot the number of jobs based on the `Agency`\n",
        "First, we need to compute the number of jobs in each agency.\n",
        "Create a new dataframe `agency_frequency` that has two columns: the agency and the number of posted jobs in that agency."
      ],
      "metadata": {
        "id": "mw9rCI0OvxoS"
      }
    },
    {
      "cell_type": "code",
      "source": [],
      "metadata": {
        "id": "uLK_vnA8qad8"
      },
      "execution_count": null,
      "outputs": []
    },
    {
      "cell_type": "markdown",
      "source": [
        "Print the `agency_frequency` dataframe"
      ],
      "metadata": {
        "id": "49itPo6ewKuO"
      }
    },
    {
      "cell_type": "code",
      "source": [],
      "metadata": {
        "id": "GP_0EUpWwMXt"
      },
      "execution_count": null,
      "outputs": []
    },
    {
      "cell_type": "markdown",
      "source": [
        "Now, create a pie chart using this [documentation page](https://matplotlib.org/stable/gallery/pie_and_polar_charts/pie_features.html).\n",
        "\n",
        "Check also the `autopct` parameter to print the percentages automatically."
      ],
      "metadata": {
        "id": "EwGGVD4bwNRO"
      }
    },
    {
      "cell_type": "code",
      "source": [],
      "metadata": {
        "id": "FEmZNR8AtfFU"
      },
      "execution_count": null,
      "outputs": []
    },
    {
      "cell_type": "markdown",
      "source": [
        "Using the seaborn library, plot a heatmap with the correlations of `jobs`. You can use directly `jobs.corr()`.\n",
        "\n",
        "Check the documentation [here](https://seaborn.pydata.org/generated/seaborn.heatmap.html)"
      ],
      "metadata": {
        "id": "dNq4aCI5u-Cz"
      }
    },
    {
      "cell_type": "code",
      "source": [],
      "metadata": {
        "id": "kPF_hl6su0Ga"
      },
      "execution_count": null,
      "outputs": []
    }
  ]
}